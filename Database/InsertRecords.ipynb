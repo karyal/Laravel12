{
 "cells": [
  {
   "cell_type": "code",
   "execution_count": 2,
   "id": "c4f9979d-9964-4cab-9f8d-d4aa3a9cab63",
   "metadata": {},
   "outputs": [
    {
     "name": "stdout",
     "output_type": "stream",
     "text": [
      "Requirement already satisfied: mysql-connector-python in d:\\softwares\\python-3128\\lib\\site-packages (9.4.0)\n"
     ]
    }
   ],
   "source": [
    "!pip install mysql-connector-python"
   ]
  },
  {
   "cell_type": "code",
   "execution_count": 1,
   "id": "7f65395a-4144-4546-b072-5ce8cd9d9d29",
   "metadata": {},
   "outputs": [],
   "source": [
    "import mysql.connector\n",
    "import random\n",
    "from datetime import datetime"
   ]
  },
  {
   "cell_type": "code",
   "execution_count": 4,
   "id": "d7cb8da9-8532-4e4d-9a0e-297a9a04b28b",
   "metadata": {},
   "outputs": [
    {
     "name": "stdout",
     "output_type": "stream",
     "text": [
      "✅ 10,000 records inserted successfully!\n"
     ]
    }
   ],
   "source": [
    "# Connect to MySQL\n",
    "conn = mysql.connector.connect(\n",
    "    host=\"localhost\",\n",
    "    user=\"root\",         # change if needed\n",
    "    password=\"pcps@123\",\n",
    "    database=\"laravelmysql\"\n",
    ")\n",
    "cursor = conn.cursor()\n",
    "\n",
    "# Sample Nepali first and last names\n",
    "first_names = [\n",
    "    \"Krishna\", \"Bikash\", \"Sita\", \"Aarati\", \"Prakash\", \"Sunita\", \"Anish\", \"Laxmi\", \"Dipendra\", \"Sabina\",\n",
    "    \"Manoj\", \"Kiran\", \"Bimal\", \"Nabin\", \"Gita\", \"Anjana\", \"Rajendra\", \"Sujata\", \"Roshan\", \"Suman\"\n",
    "]\n",
    "last_names = [\n",
    "    \"Shrestha\", \"Aryal\", \"Gurung\", \"Thapa\", \"KC\", \"Rai\", \"Tamang\", \"Basnet\", \"Karki\", \"Maharjan\",\n",
    "    \"Pandey\", \"Bista\", \"Magar\", \"Lama\", \"Acharya\", \"Poudel\", \"Regmi\", \"Shah\", \"Bhattarai\", \"Rijal\"\n",
    "]\n",
    "\n",
    "# Courses and Levels\n",
    "courses = [\n",
    "    \"BSc CSSE\", \"BBA\", \"BSc IT\", \"BIT\", \"BCA\", \"BBM\", \"BSc CSIT\"\n",
    "]\n",
    "levels = [\"L4\", \"L5\", \"L6\"]\n",
    "sections = [\"A\", \"B\", \"C\", \"D\"]\n",
    "\n",
    "# Generate and insert 10,000 records\n",
    "records = []\n",
    "for i in range(1, 10001):\n",
    "    full_name = f\"{random.choice(first_names)} {random.choice(last_names)}\"\n",
    "    course = random.choice(courses)\n",
    "    level = random.choice(levels)\n",
    "    section = random.choice(sections)\n",
    "    created_at = datetime.now()\n",
    "    updated_at = datetime.now()\n",
    "    records.append((i, full_name, course, level, section, created_at, updated_at))\n",
    "\n",
    "query = \"INSERT INTO students (id, fullname, course, courseyear, section, created_at, updated_at) VALUES (%s, %s, %s, %s, %s, %s, %s)\"\n",
    "cursor.executemany(query, records)\n",
    "conn.commit()\n",
    "\n",
    "print(\"✅ 10,000 records inserted successfully!\")\n",
    "\n",
    "cursor.close()\n",
    "conn.close()\n"
   ]
  },
  {
   "cell_type": "code",
   "execution_count": null,
   "id": "c6b6b460-f5ac-4760-9f76-3141ae044e1c",
   "metadata": {},
   "outputs": [],
   "source": []
  }
 ],
 "metadata": {
  "kernelspec": {
   "display_name": "Python 3 (ipykernel)",
   "language": "python",
   "name": "python3"
  },
  "language_info": {
   "codemirror_mode": {
    "name": "ipython",
    "version": 3
   },
   "file_extension": ".py",
   "mimetype": "text/x-python",
   "name": "python",
   "nbconvert_exporter": "python",
   "pygments_lexer": "ipython3",
   "version": "3.12.8"
  }
 },
 "nbformat": 4,
 "nbformat_minor": 5
}
